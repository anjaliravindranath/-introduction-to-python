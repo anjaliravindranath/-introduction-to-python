{
  "nbformat": 4,
  "nbformat_minor": 0,
  "metadata": {
    "colab": {
      "name": "python tax",
      "provenance": []
    },
    "kernelspec": {
      "name": "python3",
      "display_name": "Python 3"
    },
    "language_info": {
      "name": "python"
    }
  },
  "cells": [
    {
      "cell_type": "code",
      "execution_count": null,
      "metadata": {
        "colab": {
          "base_uri": "https://localhost:8080/"
        },
        "id": "IClrkvWb2hNW",
        "outputId": "7b183fda-2f83-4fd3-cb5c-ed05bcf22109"
      },
      "outputs": [
        {
          "output_type": "stream",
          "name": "stdout",
          "text": [
            "x>10\n"
          ]
        }
      ],
      "source": [
        "x=20\n",
        "if x>10:\n",
        "  print(\"x>10\")"
      ]
    },
    {
      "cell_type": "code",
      "source": [
        "x=20\n",
        "if x>10:\n",
        "  print(\"x>10\")\n",
        "if x<10:\n",
        "  print(\"x<10\")\n",
        "if x==10:\n",
        "    print(\"x==10\")"
      ],
      "metadata": {
        "colab": {
          "base_uri": "https://localhost:8080/"
        },
        "id": "a74CoWi22pk5",
        "outputId": "e3e265e5-5d0b-48b3-cf87-17b8f842a78d"
      },
      "execution_count": null,
      "outputs": [
        {
          "output_type": "stream",
          "name": "stdout",
          "text": [
            "x>10\n"
          ]
        }
      ]
    },
    {
      "cell_type": "code",
      "source": [
        "x=int(input(\"enter the mark\"))\n",
        "if x>10:\n",
        "  print(\"pass\")\n",
        "if x<10:\n",
        "  print(\"fail\")\n",
        "if x==10:\n",
        "    print(\"pass\")\n"
      ],
      "metadata": {
        "colab": {
          "base_uri": "https://localhost:8080/"
        },
        "id": "Qb9xSlqfOPfV",
        "outputId": "95947347-920b-4a42-fb28-bfb9f74804a9"
      },
      "execution_count": null,
      "outputs": [
        {
          "output_type": "stream",
          "name": "stdout",
          "text": [
            "enter the mark120\n",
            "pass\n"
          ]
        }
      ]
    },
    {
      "cell_type": "code",
      "source": [
        "x=int(input(\"enter the salary\"))\n",
        "if x>250000:\n",
        "  print(x*10/10)\n",
        "if x<=250000:\n",
        "  print(\"no tax\")"
      ],
      "metadata": {
        "colab": {
          "base_uri": "https://localhost:8080/"
        },
        "id": "fQsGCxPfPObK",
        "outputId": "e7a16917-9d92-43b6-f664-fe67696f5bc0"
      },
      "execution_count": null,
      "outputs": [
        {
          "output_type": "stream",
          "name": "stdout",
          "text": [
            "enter the salary260000\n",
            "260000.0\n"
          ]
        }
      ]
    },
    {
      "cell_type": "code",
      "source": [
        ""
      ],
      "metadata": {
        "id": "pjeU9xKhP_n2"
      },
      "execution_count": null,
      "outputs": []
    }
  ]
}
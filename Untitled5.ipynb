{
  "nbformat": 4,
  "nbformat_minor": 0,
  "metadata": {
    "colab": {
      "name": "Untitled5.ipynb",
      "provenance": []
    },
    "kernelspec": {
      "name": "python3",
      "display_name": "Python 3"
    },
    "language_info": {
      "name": "python"
    }
  },
  "cells": [
    {
      "cell_type": "code",
      "execution_count": 1,
      "metadata": {
        "colab": {
          "base_uri": "https://localhost:8080/"
        },
        "id": "jpdN5awEMDXX",
        "outputId": "b77e1b19-a932-4ca5-9759-37799f36bc23"
      },
      "outputs": [
        {
          "output_type": "stream",
          "name": "stdout",
          "text": [
            "enter the salary200000\n",
            "no tax\n"
          ]
        }
      ],
      "source": [
        "x=int(input(\"enter the salary\"))\n",
        "if x>250000:\n",
        "  print(\"taxable\")\n",
        "  print(x*x/10)\n",
        "if x<250000:\n",
        "  print(\"no tax\")  \n"
      ]
    },
    {
      "cell_type": "code",
      "source": [
        ""
      ],
      "metadata": {
        "id": "pvbiTxkdO22J"
      },
      "execution_count": null,
      "outputs": []
    },
    {
      "cell_type": "code",
      "source": [
        "x=int(input(\"enter the salary\"))\n",
        "if x>250000:\n",
        "  print(x-250000)\n",
        "  print(\"taxable\")\n",
        "  y=x-250000\n",
        "  print(y*10/100)\n",
        "if x<=250000:\n",
        "  print(\"no tax\")"
      ],
      "metadata": {
        "colab": {
          "base_uri": "https://localhost:8080/"
        },
        "id": "fQsGCxPfPObK",
        "outputId": "affca512-4eb1-4a3d-ba2a-183667d0b0a7"
      },
      "execution_count": 3,
      "outputs": [
        {
          "output_type": "stream",
          "name": "stdout",
          "text": [
            "enter the salary300000\n",
            "50000\n",
            "taxable\n",
            "5000.0\n"
          ]
        }
      ]
    },
    {
      "cell_type": "code",
      "source": [
        ""
      ],
      "metadata": {
        "id": "oFuaRYHvUQuj"
      },
      "execution_count": null,
      "outputs": []
    }
  ]
}